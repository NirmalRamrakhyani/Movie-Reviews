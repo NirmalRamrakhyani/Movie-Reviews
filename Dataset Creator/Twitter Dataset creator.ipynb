{
  "nbformat": 4,
  "nbformat_minor": 0,
  "metadata": {
    "colab": {
      "name": "Tweet Extractor.ipynb",
      "provenance": [],
      "collapsed_sections": []
    },
    "kernelspec": {
      "name": "python3",
      "display_name": "Python 3"
    }
  },
  "cells": [
    {
      "cell_type": "markdown",
      "metadata": {
        "id": "yAW8_B9obTr0"
      },
      "source": [
        "To get started you'd have to create a twitter developer account which can be easily created from the link below:\r\n",
        "\r\n",
        "https://developer.twitter.com/en/apply-for-access"
      ]
    },
    {
      "cell_type": "markdown",
      "metadata": {
        "id": "HuVWYOgulsuA"
      },
      "source": [
        "# **Importing the necessary libraries**"
      ]
    },
    {
      "cell_type": "code",
      "metadata": {
        "id": "EfO83WIuly7M"
      },
      "source": [
        "import tweepy\r\n",
        "import pandas as pd\r\n",
        "import time"
      ],
      "execution_count": 8,
      "outputs": []
    },
    {
      "cell_type": "markdown",
      "metadata": {
        "id": "wY0PbTh5l4hf"
      },
      "source": [
        "# **Initiallizing the API Call parameters**\r\n"
      ]
    },
    {
      "cell_type": "code",
      "metadata": {
        "id": "GyZPZxeNl912"
      },
      "source": [
        "consumer_key = \"Your API Key\"\r\n",
        "consumer_secret = \"Your API Secret\"\r\n",
        "access_token = \"Your access Token\"\r\n",
        "access_token_secret = \"Your Access Token Secret\"\r\n",
        "\r\n",
        "auth = tweepy.OAuthHandler(consumer_key, consumer_secret)\r\n",
        "auth.set_access_token(access_token, access_token_secret)\r\n",
        "api = tweepy.API(auth,wait_on_rate_limit=True)"
      ],
      "execution_count": 23,
      "outputs": []
    },
    {
      "cell_type": "markdown",
      "metadata": {
        "id": "fNztndYkaUCZ"
      },
      "source": [
        "To get an idea about the various parameters that can be pulled via the API refer to :\r\n",
        "\r\n",
        "https://developer.twitter.com/en/docs/twitter-api/v1/data-dictionary/object-model/tweet"
      ]
    },
    {
      "cell_type": "markdown",
      "metadata": {
        "id": "pnosuECnZ9Jk"
      },
      "source": [
        "# **Initializing the Dataset that would contain the data**"
      ]
    },
    {
      "cell_type": "code",
      "metadata": {
        "id": "1MsgbYNdaCdZ"
      },
      "source": [
        "db=pd.DataFrame(columns=['username', 'description', 'location', 'following', \r\n",
        "                               'followers', 'totaltweets', 'retweetcount', 'text', 'hashtags'])"
      ],
      "execution_count": null,
      "outputs": []
    },
    {
      "cell_type": "markdown",
      "metadata": {
        "id": "sFuSS7USmBmP"
      },
      "source": [
        "# **Defining the function that will create the tweets dataset**"
      ]
    },
    {
      "cell_type": "code",
      "metadata": {
        "id": "OIL2IuxxmGIF"
      },
      "source": [
        "\r\n",
        "def tweets_dataset_creator(text_query,lang,count):\r\n",
        "  try:\r\n",
        "    # Creation of query method using parameters\r\n",
        "    tweets = tweepy.Cursor(api.search,q=text_query).items(count)\r\n",
        "    # Counter to maintain Tweet Count \r\n",
        "    i = 1\r\n",
        "    \r\n",
        "    # we will iterate over each tweet in the list for extracting information about each tweet\r\n",
        "    for tweet in tweets:\r\n",
        "      username = tweet.user.screen_name\r\n",
        "      description = tweet.user.description\r\n",
        "      location = tweet.user.location\r\n",
        "      following = tweet.user.friends_count\r\n",
        "      followers = tweet.user.followers_count\r\n",
        "      totaltweets = tweet.user.statuses_count\r\n",
        "      retweetcount = tweet.retweet_count\r\n",
        "      hashtags = tweet.entities['hashtags']\r\n",
        "      text=tweet.text\r\n",
        "    \r\n",
        "      hashtext = list() \r\n",
        "      for j in range(0, len(hashtags)): \r\n",
        "          hashtext.append(hashtags[j]['text']) \r\n",
        "    \r\n",
        "      # Here we are appending all the extracted information in the DataFrame \r\n",
        "      ith_tweet = [username, description, location, following, \r\n",
        "                    followers, totaltweets, retweetcount, text, hashtext] \r\n",
        "      db.loc[len(db)] = ith_tweet \r\n",
        "    \r\n",
        "      # Function call to print tweet data on screen \r\n",
        "      # printtweetdata(i, ith_tweet) \r\n",
        "      i = i+1\r\n",
        " \r\n",
        "  except BaseException as e:\r\n",
        "    print('failed on_status,',str(e))\r\n",
        "    time.sleep(3)"
      ],
      "execution_count": 17,
      "outputs": []
    },
    {
      "cell_type": "markdown",
      "metadata": {
        "id": "KBYk-TQkcb9E"
      },
      "source": [
        "# **Calling the function created with a list of movie names we need for our dataset**"
      ]
    },
    {
      "cell_type": "code",
      "metadata": {
        "colab": {
          "base_uri": "https://localhost:8080/",
          "height": 248
        },
        "id": "aGPgj2LO2S7P",
        "outputId": "5ef1b23a-c9c6-4395-d021-863da52b25fb"
      },
      "source": [
        "movie_list=list()\r\n",
        "movie_list=['tenet','ironman','dunkirk','avengers'] #currently this function is based on search text and you can modify the same to \r\n",
        "                                                    #create a dataset for user tweets and whatever your need is.\r\n",
        "\r\n",
        "for movie in movie_list:\r\n",
        "  tweets_dataset_creator(movie,'en',1500)\r\n",
        "  time.sleep(900)# this timer ensures that there is a lag between subsequent calls and you're not locked out due to \r\n",
        "                #excessive API calls. It will be a tedious task but definitely would give you the desired results"
      ],
      "execution_count": 33,
      "outputs": [
        {
          "output_type": "stream",
          "text": [
            "failed on_status, \n"
          ],
          "name": "stdout"
        },
        {
          "output_type": "error",
          "ename": "KeyboardInterrupt",
          "evalue": "ignored",
          "traceback": [
            "\u001b[0;31m---------------------------------------------------------------------------\u001b[0m",
            "\u001b[0;31mKeyboardInterrupt\u001b[0m                         Traceback (most recent call last)",
            "\u001b[0;32m<ipython-input-33-5bef5aa8ee29>\u001b[0m in \u001b[0;36m<module>\u001b[0;34m()\u001b[0m\n\u001b[1;32m      4\u001b[0m \u001b[0;32mfor\u001b[0m \u001b[0mmovie\u001b[0m \u001b[0;32min\u001b[0m \u001b[0mmovie_list\u001b[0m\u001b[0;34m:\u001b[0m\u001b[0;34m\u001b[0m\u001b[0;34m\u001b[0m\u001b[0m\n\u001b[1;32m      5\u001b[0m   \u001b[0mtweets_dataset_creator\u001b[0m\u001b[0;34m(\u001b[0m\u001b[0mmovie\u001b[0m\u001b[0;34m,\u001b[0m\u001b[0;34m'en'\u001b[0m\u001b[0;34m,\u001b[0m\u001b[0;36m1500\u001b[0m\u001b[0;34m)\u001b[0m\u001b[0;34m\u001b[0m\u001b[0;34m\u001b[0m\u001b[0m\n\u001b[0;32m----> 6\u001b[0;31m   \u001b[0mtime\u001b[0m\u001b[0;34m.\u001b[0m\u001b[0msleep\u001b[0m\u001b[0;34m(\u001b[0m\u001b[0;36m900\u001b[0m\u001b[0;34m)\u001b[0m\u001b[0;31m# this timer ensures that there is a lag between subsequent calls and you're not locked out due to\u001b[0m\u001b[0;34m\u001b[0m\u001b[0;34m\u001b[0m\u001b[0m\n\u001b[0m\u001b[1;32m      7\u001b[0m                 \u001b[0;31m#excessive API calls. It will be a tedious task but definitely would give you the desired results\u001b[0m\u001b[0;34m\u001b[0m\u001b[0;34m\u001b[0m\u001b[0;34m\u001b[0m\u001b[0m\n",
            "\u001b[0;31mKeyboardInterrupt\u001b[0m: "
          ]
        }
      ]
    },
    {
      "cell_type": "code",
      "metadata": {
        "id": "QwQKIWZ8dHRd"
      },
      "source": [
        ""
      ],
      "execution_count": null,
      "outputs": []
    }
  ]
}