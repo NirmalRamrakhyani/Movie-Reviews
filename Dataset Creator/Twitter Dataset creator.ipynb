{
  "nbformat": 4,
  "nbformat_minor": 0,
  "metadata": {
    "colab": {
      "name": "Tweet Extractor.ipynb",
      "provenance": [],
      "collapsed_sections": []
    },
    "kernelspec": {
      "name": "python3",
      "display_name": "Python 3"
    }
  },
  "cells": [
    {
      "cell_type": "markdown",
      "metadata": {
        "id": "yAW8_B9obTr0"
      },
      "source": [
        "To get started you'd have to create a twitter developer account which can be easily created from the link below:\r\n",
        "\r\n",
        "https://developer.twitter.com/en/apply-for-access"
      ]
    },
    {
      "cell_type": "markdown",
      "metadata": {
        "id": "HuVWYOgulsuA"
      },
      "source": [
        "# **Importing the necessary libraries**"
      ]
    },
    {
      "cell_type": "code",
      "metadata": {
        "id": "EfO83WIuly7M"
      },
      "source": [
        "import tweepy\r\n",
        "import pandas as pd\r\n",
        "import time"
      ],
      "execution_count": 8,
      "outputs": []
    },
    {
      "cell_type": "markdown",
      "metadata": {
        "id": "wY0PbTh5l4hf"
      },
      "source": [
        "# **Initiallizing the API Call parameters**\r\n"
      ]
    },
    {
      "cell_type": "code",
      "metadata": {
        "id": "GyZPZxeNl912"
      },
      "source": [
        "consumer_key = \"Your API Key\"\r\n",
        "consumer_secret = \"Your API Secret\"\r\n",
        "access_token = \"Your access Token\"\r\n",
        "access_token_secret = \"Your Access Token Secret\"\r\n",
        "\r\n",
        "auth = tweepy.OAuthHandler(consumer_key, consumer_secret)\r\n",
        "auth.set_access_token(access_token, access_token_secret)\r\n",
        "api = tweepy.API(auth,wait_on_rate_limit=True)"
      ],
      "execution_count": 23,
      "outputs": []
    },
    {
      "cell_type": "markdown",
      "metadata": {
        "id": "fNztndYkaUCZ"
      },
      "source": [
        "To get an idea about the various parameters that can be pulled via the API refer to :\r\n",
        "\r\n",
        "https://developer.twitter.com/en/docs/twitter-api/v1/data-dictionary/object-model/tweet"
      ]
    },
    {
      "cell_type": "markdown",
      "metadata": {
        "id": "pnosuECnZ9Jk"
      },
      "source": [
        "# **Initializing the Dataset that would contain the data**"
      ]
    },
    {
      "cell_type": "code",
      "metadata": {
        "id": "1MsgbYNdaCdZ"
      },
      "source": [
        "df=pd.DataFrame(columns=['username', 'description', 'location', 'following', \r\n",
        "                               'followers', 'totaltweets', 'retweetcount', 'text', 'hashtags'])"
      ],
      "execution_count": 61,
      "outputs": []
    },
    {
      "cell_type": "markdown",
      "metadata": {
        "id": "sFuSS7USmBmP"
      },
      "source": [
        "# **Defining the function that will create the tweets dataset**"
      ]
    },
    {
      "cell_type": "code",
      "metadata": {
        "id": "OIL2IuxxmGIF"
      },
      "source": [
        "\r\n",
        "def tweets_dataset_creator(text_query,lang,count):\r\n",
        "  try:\r\n",
        "    # Creation of query method using parameters\r\n",
        "    tweets = tweepy.Cursor(api.search,q=text_query).items(count)\r\n",
        "    # Counter to maintain Tweet Count \r\n",
        "    i = 1\r\n",
        "    \r\n",
        "    # we will iterate over each tweet in the list for extracting information about each tweet\r\n",
        "    for tweet in tweets:\r\n",
        "      username = tweet.user.screen_name\r\n",
        "      description = tweet.user.description\r\n",
        "      location = tweet.user.location\r\n",
        "      following = tweet.user.friends_count\r\n",
        "      followers = tweet.user.followers_count\r\n",
        "      totaltweets = tweet.user.statuses_count\r\n",
        "      retweetcount = tweet.retweet_count\r\n",
        "      hashtags = tweet.entities['hashtags']\r\n",
        "      # text=tweet.text\r\n",
        "\r\n",
        "      # Retweets can be distinguished by a retweeted_status attribute, \r\n",
        "      # in case it is an invalid reference, except block will be executed \r\n",
        "      try:\r\n",
        "        text = tweet.retweeted_status.text \r\n",
        "      except AttributeError: \r\n",
        "        text = tweet.text\r\n",
        "      \r\n",
        "      hashtext = list() \r\n",
        "      for j in range(0, len(hashtags)): \r\n",
        "          hashtext.append(hashtags[j]['text']) \r\n",
        "    \r\n",
        "      # Here we are appending all the extracted information in the DataFrame \r\n",
        "      ith_tweet = [username, description, location, following, \r\n",
        "                    followers, totaltweets, retweetcount, text, hashtext] \r\n",
        "      df.loc[len(df)] = ith_tweet\r\n",
        "    \r\n",
        "      # Function call to print tweet data on screen \r\n",
        "      # printtweetdata(i, ith_tweet) \r\n",
        "      i = i+1\r\n",
        " \r\n",
        "  except BaseException as e:\r\n",
        "    print('failed on_status,',str(e))\r\n",
        "    time.sleep(3)"
      ],
      "execution_count": 69,
      "outputs": []
    },
    {
      "cell_type": "markdown",
      "metadata": {
        "id": "KBYk-TQkcb9E"
      },
      "source": [
        "# **Calling the function created with a list of movie names we need for our dataset**"
      ]
    },
    {
      "cell_type": "code",
      "metadata": {
        "colab": {
          "base_uri": "https://localhost:8080/"
        },
        "id": "aGPgj2LO2S7P",
        "outputId": "4eca4142-3c78-4f73-962d-cb696d248fe5"
      },
      "source": [
        "movie_list=list()\r\n",
        "movie_list=['tenet','ironman','dunkirk','avengers'] #currently this function is based on search text and you can modify the same to \r\n",
        "                                                    #create a dataset for user tweets and whatever your need is.\r\n",
        "print(\"Enter the number of rows(<1500) per search text :\")\r\n",
        "number_of_rows_per_query_text=int(input())\r\n",
        "\r\n",
        "for movie in movie_list:\r\n",
        "  tweets_dataset_creator(movie,'en',number_of_rows_per_query_text)\r\n",
        "  try:\r\n",
        "    if number_of_rows_per_query_text* len(movie_list)<2500:\r\n",
        "      pass;\r\n",
        "    else:\r\n",
        "      time.sleep(900)# this timer ensures that there is a lag between subsequent calls and you're not locked out due to \r\n",
        "                #excessive API calls. It will be a tedious task but definitely would give you the desired results\r\n",
        "  except:\r\n",
        "    print(\"check your inputs\")"
      ],
      "execution_count": 72,
      "outputs": [
        {
          "output_type": "stream",
          "text": [
            "Enter the number of rows(<1500) per search text :\n",
            "30\n",
            "30\n",
            "4\n",
            "30\n",
            "4\n",
            "30\n",
            "4\n",
            "30\n",
            "4\n"
          ],
          "name": "stdout"
        }
      ]
    },
    {
      "cell_type": "code",
      "metadata": {
        "colab": {
          "base_uri": "https://localhost:8080/",
          "height": 289
        },
        "id": "QwQKIWZ8dHRd",
        "outputId": "0d8a486c-b17d-468c-c0fb-215d379d8d5f"
      },
      "source": [
        ""
      ],
      "execution_count": 74,
      "outputs": [
        {
          "output_type": "execute_result",
          "data": {
            "text/html": [
              "<div>\n",
              "<style scoped>\n",
              "    .dataframe tbody tr th:only-of-type {\n",
              "        vertical-align: middle;\n",
              "    }\n",
              "\n",
              "    .dataframe tbody tr th {\n",
              "        vertical-align: top;\n",
              "    }\n",
              "\n",
              "    .dataframe thead th {\n",
              "        text-align: right;\n",
              "    }\n",
              "</style>\n",
              "<table border=\"1\" class=\"dataframe\">\n",
              "  <thead>\n",
              "    <tr style=\"text-align: right;\">\n",
              "      <th></th>\n",
              "      <th>username</th>\n",
              "      <th>description</th>\n",
              "      <th>location</th>\n",
              "      <th>following</th>\n",
              "      <th>followers</th>\n",
              "      <th>totaltweets</th>\n",
              "      <th>retweetcount</th>\n",
              "      <th>text</th>\n",
              "      <th>hashtags</th>\n",
              "    </tr>\n",
              "  </thead>\n",
              "  <tbody>\n",
              "    <tr>\n",
              "      <th>0</th>\n",
              "      <td>bluewingsknight</td>\n",
              "      <td>Studying in commercial University. Interesting...</td>\n",
              "      <td></td>\n",
              "      <td>16</td>\n",
              "      <td>2</td>\n",
              "      <td>262</td>\n",
              "      <td>406</td>\n",
              "      <td>TENETの絵 https://t.co/7aPJzNqruU</td>\n",
              "      <td>[]</td>\n",
              "    </tr>\n",
              "    <tr>\n",
              "      <th>1</th>\n",
              "      <td>adityadshr</td>\n",
              "      <td>Cinematographer and Director</td>\n",
              "      <td>Mumbai india</td>\n",
              "      <td>357</td>\n",
              "      <td>126</td>\n",
              "      <td>26364</td>\n",
              "      <td>1</td>\n",
              "      <td>Finally watched #TENET last night and it was a...</td>\n",
              "      <td>[TENET]</td>\n",
              "    </tr>\n",
              "    <tr>\n",
              "      <th>2</th>\n",
              "      <td>luigimmelo</td>\n",
              "      <td>grande ideia falar com seu chapa waternoose pe...</td>\n",
              "      <td>Foz do Iguaçu, Brasil</td>\n",
              "      <td>328</td>\n",
              "      <td>119</td>\n",
              "      <td>3433</td>\n",
              "      <td>0</td>\n",
              "      <td>Assim das ideia depois de terminar Tenet https...</td>\n",
              "      <td>[]</td>\n",
              "    </tr>\n",
              "    <tr>\n",
              "      <th>3</th>\n",
              "      <td>HarshMCU</td>\n",
              "      <td>Living With Avengers</td>\n",
              "      <td>Mumbai, India</td>\n",
              "      <td>1385</td>\n",
              "      <td>625</td>\n",
              "      <td>79144</td>\n",
              "      <td>0</td>\n",
              "      <td>@akshayerathi M agree with you \\nHii Akshaye S...</td>\n",
              "      <td>[TENET]</td>\n",
              "    </tr>\n",
              "    <tr>\n",
              "      <th>4</th>\n",
              "      <td>1984_coming</td>\n",
              "      <td>สลิ่มคือพวกคลั่งศาสนามือถือสากปากถือศีลและเบีย...</td>\n",
              "      <td></td>\n",
              "      <td>41</td>\n",
              "      <td>99</td>\n",
              "      <td>43315</td>\n",
              "      <td>316</td>\n",
              "      <td>เพิ่งเคยดูตัวอย่าง Tenet แบบพากย์ญี่ปุ่น เสียง...</td>\n",
              "      <td>[]</td>\n",
              "    </tr>\n",
              "  </tbody>\n",
              "</table>\n",
              "</div>"
            ],
            "text/plain": [
              "          username  ... hashtags\n",
              "0  bluewingsknight  ...       []\n",
              "1       adityadshr  ...  [TENET]\n",
              "2       luigimmelo  ...       []\n",
              "3         HarshMCU  ...  [TENET]\n",
              "4      1984_coming  ...       []\n",
              "\n",
              "[5 rows x 9 columns]"
            ]
          },
          "metadata": {
            "tags": []
          },
          "execution_count": 74
        }
      ]
    },
    {
      "cell_type": "code",
      "metadata": {
        "colab": {
          "base_uri": "https://localhost:8080/",
          "height": 289
        },
        "id": "k8al0qRymcx7",
        "outputId": "6b212fdf-0f18-498f-d6ce-c779cd000721"
      },
      "source": [
        "df.head()"
      ],
      "execution_count": 71,
      "outputs": [
        {
          "output_type": "execute_result",
          "data": {
            "text/html": [
              "<div>\n",
              "<style scoped>\n",
              "    .dataframe tbody tr th:only-of-type {\n",
              "        vertical-align: middle;\n",
              "    }\n",
              "\n",
              "    .dataframe tbody tr th {\n",
              "        vertical-align: top;\n",
              "    }\n",
              "\n",
              "    .dataframe thead th {\n",
              "        text-align: right;\n",
              "    }\n",
              "</style>\n",
              "<table border=\"1\" class=\"dataframe\">\n",
              "  <thead>\n",
              "    <tr style=\"text-align: right;\">\n",
              "      <th></th>\n",
              "      <th>username</th>\n",
              "      <th>description</th>\n",
              "      <th>location</th>\n",
              "      <th>following</th>\n",
              "      <th>followers</th>\n",
              "      <th>totaltweets</th>\n",
              "      <th>retweetcount</th>\n",
              "      <th>text</th>\n",
              "      <th>hashtags</th>\n",
              "    </tr>\n",
              "  </thead>\n",
              "  <tbody>\n",
              "    <tr>\n",
              "      <th>0</th>\n",
              "      <td>bluewingsknight</td>\n",
              "      <td>Studying in commercial University. Interesting...</td>\n",
              "      <td></td>\n",
              "      <td>16</td>\n",
              "      <td>2</td>\n",
              "      <td>262</td>\n",
              "      <td>406</td>\n",
              "      <td>TENETの絵 https://t.co/7aPJzNqruU</td>\n",
              "      <td>[]</td>\n",
              "    </tr>\n",
              "    <tr>\n",
              "      <th>1</th>\n",
              "      <td>adityadshr</td>\n",
              "      <td>Cinematographer and Director</td>\n",
              "      <td>Mumbai india</td>\n",
              "      <td>357</td>\n",
              "      <td>126</td>\n",
              "      <td>26364</td>\n",
              "      <td>1</td>\n",
              "      <td>Finally watched #TENET last night and it was a...</td>\n",
              "      <td>[TENET]</td>\n",
              "    </tr>\n",
              "    <tr>\n",
              "      <th>2</th>\n",
              "      <td>luigimmelo</td>\n",
              "      <td>grande ideia falar com seu chapa waternoose pe...</td>\n",
              "      <td>Foz do Iguaçu, Brasil</td>\n",
              "      <td>328</td>\n",
              "      <td>119</td>\n",
              "      <td>3433</td>\n",
              "      <td>0</td>\n",
              "      <td>Assim das ideia depois de terminar Tenet https...</td>\n",
              "      <td>[]</td>\n",
              "    </tr>\n",
              "    <tr>\n",
              "      <th>3</th>\n",
              "      <td>HarshMCU</td>\n",
              "      <td>Living With Avengers</td>\n",
              "      <td>Mumbai, India</td>\n",
              "      <td>1385</td>\n",
              "      <td>625</td>\n",
              "      <td>79144</td>\n",
              "      <td>0</td>\n",
              "      <td>@akshayerathi M agree with you \\nHii Akshaye S...</td>\n",
              "      <td>[TENET]</td>\n",
              "    </tr>\n",
              "    <tr>\n",
              "      <th>4</th>\n",
              "      <td>1984_coming</td>\n",
              "      <td>สลิ่มคือพวกคลั่งศาสนามือถือสากปากถือศีลและเบีย...</td>\n",
              "      <td></td>\n",
              "      <td>41</td>\n",
              "      <td>99</td>\n",
              "      <td>43315</td>\n",
              "      <td>316</td>\n",
              "      <td>เพิ่งเคยดูตัวอย่าง Tenet แบบพากย์ญี่ปุ่น เสียง...</td>\n",
              "      <td>[]</td>\n",
              "    </tr>\n",
              "  </tbody>\n",
              "</table>\n",
              "</div>"
            ],
            "text/plain": [
              "          username  ... hashtags\n",
              "0  bluewingsknight  ...       []\n",
              "1       adityadshr  ...  [TENET]\n",
              "2       luigimmelo  ...       []\n",
              "3         HarshMCU  ...  [TENET]\n",
              "4      1984_coming  ...       []\n",
              "\n",
              "[5 rows x 9 columns]"
            ]
          },
          "metadata": {
            "tags": []
          },
          "execution_count": 71
        }
      ]
    }
  ]
}